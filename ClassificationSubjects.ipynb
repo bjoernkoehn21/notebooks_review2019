{
 "cells": [
  {
   "cell_type": "markdown",
   "metadata": {},
   "source": [
    "# Classification to identify subjects\n",
    "\n",
    "This notebook reproduces plots that appear in Fig 4 of the paper:\n",
    "- Gilson M, Zamora-López G, Pallarés V, Adhikari MH, Senden M, Tauste Campo A, Mantini D, Corbetta M, Deco G, Insabato A (submitted) \"Model-based whole-brain effective connectivity to study distributed cognition in health and disease\", bioRxiv; https://doi.org/10.1101/531830.\n",
    "\n",
    "The goal of to compare the connectivity measures (in particular, effective versus functional connectivity) in identifying subjects.\n",
    "\n",
    "It uses the scikit-learn library, see https://scikit-learn.org/ for details and tutorials."
   ]
  },
  {
   "cell_type": "code",
   "execution_count": null,
   "metadata": {},
   "outputs": [],
   "source": [
    "# toggle to True to create directory and store results there\n",
    "save_outputs = False\n",
    "if save_outputs:\n",
    "    import os\n",
    "    res_dir = 'classif/'\n",
    "    if not os.path.exists(res_dir):\n",
    "        os.mkdir(res_dir)"
   ]
  },
  {
   "cell_type": "markdown",
   "metadata": {},
   "source": [
    "We load the data and calculate the features: 'EC' stands for effective connectivity (estimated for the MOU model, see the *MOU_EC_Estimation* notebook), 'FC' for the BOLD correlations, 'FC+mask' for the BOLD correlations only concerning the ROI connections that exist according to the structural data (diffusion tensor imaging), 'PC' for the partial correlations."
   ]
  },
  {
   "cell_type": "code",
   "execution_count": 1,
   "metadata": {},
   "outputs": [],
   "source": [
    "import numpy as np\n",
    "import scipy.stats as stt\n",
    "import sklearn.linear_model as skllm\n",
    "import sklearn.neighbors as sklnn\n",
    "import sklearn.discriminant_analysis as skda\n",
    "import sklearn.preprocessing as skppc\n",
    "import sklearn.pipeline as skppl\n",
    "import sklearn.metrics as skm\n",
    "import matplotlib.pyplot as pp\n",
    "\n",
    "# load EC matrices, session labels and general parameters\n",
    "param_dir = 'model_param_movie/'\n",
    "n_sub = 22 # number of subjects\n",
    "n_run = 5 # number of sessions per subject (2 rest + 3 movie)\n",
    "N = 66 # number of ROIs\n",
    "\n",
    "# load connectivity measures\n",
    "EC = np.load(param_dir+'J_mod.npy') # effective connectivity estimated using the MOU dynamic model\n",
    "mask_EC = np.load(param_dir+'mask_EC.npy') # mask of existing connections in SC (structural connectivity)\n",
    "FC0 = np.load(param_dir+'FC_emp.npy')[:,:,0,:,:] # BOLD covariances (without time lag)\n",
    "mask_tri = np.tri(N,N,-1,dtype=np.bool) # triangular mask to retain half of the matrix elemenets in symmetric matrices\n",
    "\n",
    "# calculate features\n",
    "for i_sub in range(n_sub):\n",
    "    for i_run in range(n_run):\n",
    "        EC[i_sub,i_run,mask_EC] = stt.zscore(EC[i_sub,i_run,mask_EC]) # apply z-scoring to EC\n",
    "\n",
    "corr = np.copy(FC0)\n",
    "for i_sub in range(n_sub):\n",
    "    for i_run in range(n_run):\n",
    "        corr[i_sub,i_run,:,:] /= np.sqrt(np.outer(corr[i_sub,i_run,:,:].diagonal(),corr[i_sub,i_run,:,:].diagonal()))\n",
    "\n",
    "PC = np.copy(FC0)\n",
    "for i_sub in range(n_sub):\n",
    "    for i_run in range(n_run):\n",
    "        PC[i_sub,i_run,:,:] = -np.linalg.pinv(PC[i_sub,i_run,:,:])\n",
    "        PC[i_sub,i_run,:,:] /= np.sqrt(np.outer(PC[i_sub,i_run,:,:].diagonal(),PC[i_sub,i_run,:,:].diagonal()))\n",
    "\n",
    "# plotting labels for connectivity measures\n",
    "n_conn = 4\n",
    "label_conn = ['EC', 'FC', 'FC+mask', 'PC']"
   ]
  },
  {
   "cell_type": "markdown",
   "metadata": {},
   "source": [
    "The following code repeats the classification by splitting the fMRI sessions into a train set and test set (*n_rep* times). Here 2 sessions are used for training and 3 for testing, the split being randomly performed for each subject.\n",
    "\n",
    "We compare 2 classifiers:\n",
    "- MLR is the multinomial logistic regression;\n",
    "- 1NN is the 1-nearest-neighbor.\n",
    "\n",
    "See the scikit-learn webpage for details.\n",
    "\n",
    "Note that the chance level here is equal to *1/n_sub*, since all subjects have the same number of sessions in the test set."
   ]
  },
  {
   "cell_type": "code",
   "execution_count": 2,
   "metadata": {},
   "outputs": [
    {
     "name": "stdout",
     "output_type": "stream",
     "text": [
      "EC\n",
      "average/std performance MLR 0.8909090909090909 0.12003213527477793\n",
      "average/std performance 1NN 0.8318181818181818 0.17584245599302872\n",
      "FC\n",
      "average/std performance MLR 0.7863636363636364 0.1814959265379316\n",
      "average/std performance 1NN 0.7803030303030304 0.19096319579636367\n",
      "FC+mask\n",
      "average/std performance MLR 0.7848484848484849 0.1916292333789379\n",
      "average/std performance 1NN 0.7757575757575758 0.19090909090909092\n",
      "PC\n",
      "average/std performance MLR 0.940909090909091 0.05687371023976807\n",
      "average/std performance 1NN 0.9 0.11895628137206378\n"
     ]
    },
    {
     "data": {
      "image/png": "[encoded data removed]",
      "text/plain": [
       "<Figure size 288x144 with 1 Axes>"
      ]
     },
     "metadata": {
      "needs_background": "light"
     },
     "output_type": "display_data"
    }
   ],
   "source": [
    "# classifier and learning parameters\n",
    "c_MLR = skppl.make_pipeline(skppc.StandardScaler(),skllm.LogisticRegression(C=10, penalty='l2', multi_class='multinomial', solver='lbfgs', max_iter=500))\n",
    "c_1NN = sklnn.KNeighborsClassifier(n_neighbors=1, algorithm='brute', metric='correlation')\n",
    "\n",
    "# labels of sessions for classification\n",
    "sub_labels = np.repeat(np.arange(n_sub).reshape([-1,1]), n_run, axis=1)\n",
    "\n",
    "# chance level\n",
    "chance_level = 1. / n_sub\n",
    "\n",
    "# store results\n",
    "n_rep = 10  # number of repetition of classification procedure\n",
    "perf = np.zeros([n_rep,n_conn,2]) # last index: MLR/1NN\n",
    "CM = np.zeros([n_rep,n_conn,n_sub,n_sub]) # confusion matrices\n",
    "    \n",
    "\n",
    "# repeat classification\n",
    "for i_rep in range(n_rep):\n",
    "    # split indices in train and test sets (2 sessions are randomly chosen for each subject)\n",
    "    train_ind = np.zeros([n_sub,n_run],dtype=bool)\n",
    "    for i_sub in range(n_sub):\n",
    "        while train_ind[i_sub,:].sum()<2:\n",
    "            train_ind[:,np.random.randint(n_run)] = True\n",
    "    test_ind = np.logical_not(train_ind)\n",
    "\n",
    "    # loop over connectivity measures\n",
    "    for i_conn in range(n_conn):\n",
    "\n",
    "        if i_conn==0:\n",
    "            vect_features = EC[:,:,mask_EC] # vectorized EC matrices (only retaining existing connections)\n",
    "        elif i_conn==1:\n",
    "            vect_features = corr[:,:,mask_tri] # vectorized FC matrices (only retaining low triangle)\n",
    "        elif i_conn==2:\n",
    "            vect_features = corr[:,:,mask_EC] # vectorized FC matrices (only retaining SC existing connections)\n",
    "        else:\n",
    "            vect_features = PC[:,:,mask_tri] # vectorized PC  matrices (only retaining low triangle)\n",
    "\n",
    "        # train and test classifiers with subject labels\n",
    "        c_MLR.fit(vect_features[train_ind,:], sub_labels[train_ind])\n",
    "        perf[i_rep,i_conn,0] = c_MLR.score(vect_features[test_ind,:], sub_labels[test_ind])\n",
    "\n",
    "        c_1NN.fit(vect_features[train_ind,:], sub_labels[train_ind])\n",
    "        perf[i_rep,i_conn,1] = c_1NN.score(vect_features[test_ind,:], sub_labels[test_ind])\n",
    "\n",
    "        # confusion matrix for MLR\n",
    "        CM[i_rep,i_conn,:,:] = skm.confusion_matrix(y_true=sub_labels[test_ind], y_pred=c_MLR.predict(vect_features[test_ind,:]))\n",
    "\n",
    "\n",
    "# print and plot summary of performance\n",
    "for i_conn in range(n_conn):\n",
    "    print(label_conn[i_conn])\n",
    "    print('mean/std performance MLR',perf[:,i_conn,0].mean(),perf[:,i_conn,0].std())\n",
    "    print('mean/std performance 1NN',perf[:,i_conn,1].mean(),perf[:,i_conn,1].std())\n",
    "\n",
    "pp.figure()\n",
    "pp.violinplot(perf[:,:,0],positions=np.arange(n_conn)-0.2,widths=[0.25]*n_conn)\n",
    "pp.violinplot(perf[:,:,1],positions=np.arange(n_conn)+0.2,widths=[0.25]*n_conn)\n",
    "pp.plot([-1,n_conn],[chance_level]*2,'--k')\n",
    "pp.axis(xmin=-0.6,xmax=n_conn-0.4,ymin=0,ymax=1.01)\n",
    "pp.xticks(range(n_conn),label_conn, fontsize=8,rotation=20)\n",
    "pp.yticks(fontsize=8)\n",
    "pp.ylabel('accuracy', fontsize=8)\n",
    "if save_outputs:\n",
    "    pp.savefig(res_dir+'perf_sub.png',format='png')\n",
    "\n",
    "pp.show()"
   ]
  },
  {
   "cell_type": "markdown",
   "metadata": {},
   "source": [
    "Confusion matrices are useful to understand the errors performed by the train classifier on the test set. Each row represents the classification of a test sample, with the diagonal element corresponding to the correct classification and off-diagonal elements to errors."
   ]
  },
  {
   "cell_type": "code",
   "execution_count": 3,
   "metadata": {},
   "outputs": [
    {
     "data": {
      "image/png": "[encoded data removed]",
      "text/plain": [
       "<Figure size 144x144 with 2 Axes>"
      ]
     },
     "metadata": {
      "needs_background": "light"
     },
     "output_type": "display_data"
    },
    {
     "data": {
      "image/png": "[encoded data removed]",
      "text/plain": [
       "<Figure size 144x144 with 2 Axes>"
      ]
     },
     "metadata": {
      "needs_background": "light"
     },
     "output_type": "display_data"
    },
    {
     "data": {
      "image/png": "[encoded data removed]",
      "text/plain": [
       "<Figure size 144x144 with 2 Axes>"
      ]
     },
     "metadata": {
      "needs_background": "light"
     },
     "output_type": "display_data"
    },
    {
     "data": {
      "image/png": "[encoded data removed]",
      "text/plain": [
       "<Figure size 144x144 with 2 Axes>"
      ]
     },
     "metadata": {
      "needs_background": "light"
     },
     "output_type": "display_data"
    }
   ],
   "source": [
    "# plot confusion matrices\n",
    "for i_conn in range(n_conn):\n",
    "    tag = label_conn[i_conn] + '_'\n",
    "    \n",
    "    pp.figure()\n",
    "    pp.imshow(CM[:,i_conn,:,:].mean(0), origin='bottom', interpolation='nearest', cmap='Greens', vmin=0, vmax=3)\n",
    "    pp.xticks([0,9,19], [1,10,20])\n",
    "    pp.yticks([0,9,19], [1,10,20])\n",
    "    pp.xlabel('predicted subject')\n",
    "    pp.ylabel('true subject')\n",
    "    pp.colorbar(ticks=range(4))\n",
    "    if save_outputs:\n",
    "        pp.savefig(res_dir+'conf_mat_'+tag+'sub.png',format='png')"
   ]
  }
 ],
 "metadata": {
  "kernelspec": {
   "display_name": "Python 3",
   "language": "python",
   "name": "python3"
  },
  "language_info": {
   "codemirror_mode": {
    "name": "ipython",
    "version": 3
   },
   "file_extension": ".py",
   "mimetype": "text/x-python",
   "name": "python",
   "nbconvert_exporter": "python",
   "pygments_lexer": "ipython3",
   "version": "3.7.3"
  }
 },
 "nbformat": 4,
 "nbformat_minor": 2
}
